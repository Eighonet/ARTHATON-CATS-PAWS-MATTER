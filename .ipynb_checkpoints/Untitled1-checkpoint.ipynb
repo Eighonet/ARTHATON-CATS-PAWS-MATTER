{
 "cells": [
  {
   "cell_type": "code",
   "execution_count": 4,
   "metadata": {},
   "outputs": [],
   "source": [
    "import subprocess"
   ]
  },
  {
   "cell_type": "code",
   "execution_count": 9,
   "metadata": {},
   "outputs": [],
   "source": [
    "p2 = subprocess.Popen(\"python NN/evaluate.py --checkpoint NN/checkpoint/fns.ckpt --in-path 32.png --batch-size 1 --out-path NN/test\")"
   ]
  },
  {
   "cell_type": "code",
   "execution_count": 12,
   "metadata": {},
   "outputs": [],
   "source": [
    "import subprocess\n",
    "def wrapper(path_to_current_img, path_to_save):\n",
    "    p2 = subprocess.Popen(\"python NN/evaluate.py --checkpoint NN/checkpoint/fns.ckpt --in-path \"+ path_to_current_img + \" --batch-size 1 --out-path \" + path_to_save)\n",
    "    return path_to_save"
   ]
  },
  {
   "cell_type": "code",
   "execution_count": 13,
   "metadata": {},
   "outputs": [
    {
     "data": {
      "text/plain": [
       "'NN/test'"
      ]
     },
     "execution_count": 13,
     "metadata": {},
     "output_type": "execute_result"
    }
   ],
   "source": [
    "wrapper(\"41.png\", \"NN/test\")"
   ]
  },
  {
   "cell_type": "code",
   "execution_count": null,
   "metadata": {},
   "outputs": [],
   "source": []
  }
 ],
 "metadata": {
  "kernelspec": {
   "display_name": "Python 3",
   "language": "python",
   "name": "python3"
  },
  "language_info": {
   "codemirror_mode": {
    "name": "ipython",
    "version": 3
   },
   "file_extension": ".py",
   "mimetype": "text/x-python",
   "name": "python",
   "nbconvert_exporter": "python",
   "pygments_lexer": "ipython3",
   "version": "3.8.3"
  }
 },
 "nbformat": 4,
 "nbformat_minor": 4
}
